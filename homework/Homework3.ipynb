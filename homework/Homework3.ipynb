{
 "cells": [
  {
   "cell_type": "markdown",
   "metadata": {},
   "source": [
    "# Machine Learning and Statistics for Physicists"
   ]
  },
  {
   "cell_type": "markdown",
   "metadata": {},
   "source": [
    "## Homework 3"
   ]
  },
  {
   "cell_type": "code",
   "execution_count": 1,
   "metadata": {},
   "outputs": [],
   "source": [
    "%matplotlib inline\n",
    "import matplotlib.pyplot as plt\n",
    "import seaborn as sns; sns.set()\n",
    "import numpy as np\n",
    "import pandas as pd"
   ]
  },
  {
   "cell_type": "code",
   "execution_count": 2,
   "metadata": {},
   "outputs": [],
   "source": [
    "from sklearn import cluster, decomposition"
   ]
  },
  {
   "cell_type": "code",
   "execution_count": 3,
   "metadata": {},
   "outputs": [],
   "source": [
    "from mls import locate_data\n",
    "spectra_data = pd.read_hdf(locate_data('spectra_data.hf5'))"
   ]
  },
  {
   "cell_type": "markdown",
   "metadata": {},
   "source": [
    "### Problem 1"
   ]
  },
  {
   "cell_type": "markdown",
   "metadata": {},
   "source": [
    "The [Expectation-Maximization (EM) algorithm](https://en.wikipedia.org/wiki/Expectation-maximization_algorithm) is used to implement many machine learning methods, including several we have already studied: K-means, factor analysis and weighted PCA.\n",
    "\n",
    "The basic idea of EM is to optimize a goal function that depends on two disjoint sets of parameters by alternately updating one set and then the other, using a scheme that is guaranteed to improve the goal function (although generally to a local rather than global optimum). The alternating updates are called the E-step and M-step.\n",
    "\n",
    "The K-means is one of the simplest uses of EM, so is a good way to get some hands-on experience.\n",
    "\n",
    "Implement the function below to perform a K-means E-step. Hint: you might find [np.argmin](https://docs.scipy.org/doc/numpy-1.13.0/reference/generated/numpy.argmin.html) useful."
   ]
  },
  {
   "cell_type": "code",
   "execution_count": 4,
   "metadata": {
    "deletable": false,
    "nbgrader": {
     "checksum": "00eedb05d8114caa27bd184424458fdf",
     "grade": false,
     "grade_id": "cell-1fd9b1bd93367de3",
     "locked": false,
     "schema_version": 1,
     "solution": true
    }
   },
   "outputs": [],
   "source": [
    "def E_step(X, centers):\n",
    "    \"\"\"Perform a K-means E-step.\n",
    "    \n",
    "    Assign each sample to the cluster with the nearest center, using the\n",
    "    Euclidean norm to measure distance between a sample and a cluster center.\n",
    "    \n",
    "    Parameters\n",
    "    ----------\n",
    "    X : array with shape (N, D)\n",
    "        Input data consisting of N samples in D dimensions.\n",
    "    centers : array with shape (n, D)\n",
    "        Centers of the the n clusters in D dimensions.\n",
    "        \n",
    "    Returns\n",
    "    -------\n",
    "    integer array with shape (N,)\n",
    "        Cluster index of each sample, in the range 0 to n-1.\n",
    "    \"\"\"\n",
    "    N, D = X.shape\n",
    "    n = len(centers)\n",
    "    assert centers.shape[1] == D\n",
    "    indices = np.empty(N, int)\n",
    "    centers = np.tile(centers[np.newaxis,:,:],(N,1,1))\n",
    "    X = np.tile(X[:,np.newaxis,:],(1,n,1))\n",
    "    sqrs = (X-centers)**2\n",
    "    dist = np.sqrt(sqrs.sum(axis=2))\n",
    "    indices = np.argmin(dist,axis=1)\n",
    "    # YOUR CODE HERE\n",
    "    #raise NotImplementedError()\n",
    "    return indices"
   ]
  },
  {
   "cell_type": "code",
   "execution_count": 5,
   "metadata": {
    "deletable": false,
    "editable": false,
    "nbgrader": {
     "checksum": "250ffac99e904a2866924701daa8fa8a",
     "grade": true,
     "grade_id": "cell-ef51e1271ef21f6b",
     "locked": true,
     "points": 1,
     "schema_version": 1,
     "solution": false
    }
   },
   "outputs": [],
   "source": [
    "# A correct solution should pass these tests.\n",
    "gen = np.random.RandomState(seed=123)\n",
    "X = gen.normal(size=(20, 2))\n",
    "centers = np.array([[0., 0.], [0., 10.]])\n",
    "X[50:] += centers[1]\n",
    "indices = E_step(X, centers)\n",
    "assert np.all(indices[:50] == 0)\n",
    "assert np.all(indices[50:] == 1)\n",
    "\n",
    "centers = gen.uniform(size=(5, 2))\n",
    "indices = E_step(X, centers)\n",
    "assert np.array_equal(indices, [4, 1, 4, 4, 1, 0, 1, 0, 2, 1, 2, 4, 0, 1, 0, 1, 0, 1, 4, 4])"
   ]
  },
  {
   "cell_type": "markdown",
   "metadata": {},
   "source": [
    "Next, implement the function below to perform a K-means M-step:"
   ]
  },
  {
   "cell_type": "code",
   "execution_count": 6,
   "metadata": {
    "deletable": false,
    "nbgrader": {
     "checksum": "8f68831e45844d7311cff1d21ded806a",
     "grade": false,
     "grade_id": "cell-93637e4dd249caa6",
     "locked": false,
     "schema_version": 1,
     "solution": true
    }
   },
   "outputs": [],
   "source": [
    "def M_step(X, indices, n):\n",
    "    \"\"\"Perform a K-means M-step.\n",
    "    \n",
    "    Calculate the center of each cluster as the geometric mean of its assigned samples.\n",
    "    \n",
    "    The centers of any clusters without any assigned samples should be set to the origin.\n",
    "    \n",
    "    Parameters\n",
    "    ----------\n",
    "    X : array with shape (N, D)\n",
    "        Input data consisting of N samples in D dimensions.\n",
    "    indices : integer array with shape (N,)\n",
    "        Cluster index of each sample, in the range 0 to n-1.\n",
    "    n : int\n",
    "        Number of clusters.  Must be <= N.\n",
    "        \n",
    "    Returns\n",
    "    -------\n",
    "    array with shape (n, D)\n",
    "        Centers of the the n clusters in D dimensions.\n",
    "    \"\"\"\n",
    "    N, D = X.shape\n",
    "    assert indices.shape == (N,)\n",
    "    assert n <= N\n",
    "    X_new = np.empty((N,n,D))\n",
    "    X_new[:] = np.nan\n",
    "    #X_new2 = np.empty((N,n,D))\n",
    "    for i in range(N): \n",
    "        j = indices[i]              \n",
    "        X_new[i,j,:] = X[i,:]\n",
    "    #X_new2[:,indices,:] = X  # I feel there should be some way to avoid the for loop above\n",
    "    #print(X_new2.shape)\n",
    "    #print(indices)\n",
    "    #print(X_new2)\n",
    "    #print(X_new)\n",
    "    #print(np.array_equal(X_new2, X_new))    \n",
    "    #centers = np.zeros((n, D))\n",
    "    #X_new\n",
    "    #centers = X_new.mean(axis=0)\n",
    "    centers = np.nanmean(X_new,axis=0)\n",
    "    #print(centers)\n",
    "    # YOUR CODE HERE\n",
    "    #raise NotImplementedError()\n",
    "    return centers"
   ]
  },
  {
   "cell_type": "code",
   "execution_count": 7,
   "metadata": {
    "deletable": false,
    "editable": false,
    "nbgrader": {
     "checksum": "9ce6d3d26b4ec1eb864d664ee0fe8d5a",
     "grade": true,
     "grade_id": "cell-89c2132b32b6e924",
     "locked": true,
     "points": 1,
     "schema_version": 1,
     "solution": false
    }
   },
   "outputs": [
    {
     "name": "stdout",
     "output_type": "stream",
     "text": [
      "[[1. 1.]]\n",
      "[[1. 1.]\n",
      " [1. 1.]\n",
      " [1. 1.]\n",
      " [1. 1.]\n",
      " [1. 1.]]\n",
      "[[0.49403423 0.3812842 ]\n",
      " [0.59209909 0.64500802]\n",
      " [0.57145894 0.37061303]\n",
      " [0.23372358 0.63356567]\n",
      " [0.24999355 0.38631606]]\n"
     ]
    }
   ],
   "source": [
    "# A correct solution should pass these tests.\n",
    "gen = np.random.RandomState(seed=123)\n",
    "X = np.ones((20, 2))\n",
    "indices = np.zeros(20, int)\n",
    "centers = M_step(X, indices, 1)\n",
    "assert np.all(centers == 1.)\n",
    "\n",
    "n = 5\n",
    "indices = gen.randint(n, size=len(X))\n",
    "centers = M_step(X, indices, n)\n",
    "assert np.all(centers == 1.)\n",
    "\n",
    "X = gen.uniform(size=X.shape)\n",
    "centers = M_step(X, indices, n)\n",
    "assert np.allclose(\n",
    "    np.round(centers, 3),\n",
    "    [[ 0.494,  0.381], [ 0.592,  0.645],\n",
    "     [ 0.571,  0.371], [ 0.234,  0.634],\n",
    "     [ 0.250,  0.386]])"
   ]
  },
  {
   "cell_type": "markdown",
   "metadata": {},
   "source": [
    "You have now implemented the core of the K-means algorithm.  Try it out with this simple wrapper, which makes a scatter plot of the first two columns after each iteration. The sklearn wrapper combines the result of several random starting points and has other refinements."
   ]
  },
  {
   "cell_type": "code",
   "execution_count": 8,
   "metadata": {},
   "outputs": [],
   "source": [
    "def KMeans_fit(data, n_clusters, nsteps, seed=123):\n",
    "    X = data.values\n",
    "    N, D = X.shape\n",
    "    assert n_clusters <= N\n",
    "    gen = np.random.RandomState(seed=seed)\n",
    "    # Pick random samples as the initial centers.\n",
    "    shuffle = gen.permutation(N)\n",
    "    centers = X[shuffle[:n_clusters]]\n",
    "    # Perform an initial E step to assign samples to clusters.\n",
    "    indices = E_step(X, centers)\n",
    "    # Loop over iterations.\n",
    "    for i in range(nsteps):\n",
    "        centers = M_step(X, indices, n_clusters)\n",
    "        indices = E_step(X, centers)\n",
    "    # Plot the result.\n",
    "    cmap = np.array(sns.color_palette())\n",
    "    plt.scatter(X[:, 0], X[:, 1], c=cmap[indices % len(cmap)])\n",
    "    plt.scatter(centers[:, 0], centers[:, 1], marker='+', c='k', s=400, lw=5)\n",
    "    plt.show()"
   ]
  },
  {
   "cell_type": "markdown",
   "metadata": {},
   "source": [
    "Try it out on some randomly generated 2D data with 3 separate clusters (using the handy [make_blobs](http://scikit-learn.org/stable/modules/generated/sklearn.datasets.make_blobs.html)):"
   ]
  },
  {
   "cell_type": "code",
   "execution_count": 9,
   "metadata": {},
   "outputs": [],
   "source": [
    "from sklearn.datasets.samples_generator import make_blobs\n",
    "gen = np.random.RandomState(seed=123)\n",
    "X, _ = make_blobs(500, 2, [[-3,-3],[0,3],[3,-3]], random_state=gen)\n",
    "data = pd.DataFrame(X, columns=('x0', 'x1'))"
   ]
  },
  {
   "cell_type": "markdown",
   "metadata": {},
   "source": [
    "For this simple test, you should find a good solution after two iterations:"
   ]
  },
  {
   "cell_type": "code",
   "execution_count": 10,
   "metadata": {},
   "outputs": [
    {
     "data": {
      "image/png": "[encoded data removed]",
      "text/plain": [
       "<matplotlib.figure.Figure at 0xa80dbdac>"
      ]
     },
     "metadata": {},
     "output_type": "display_data"
    },
    {
     "name": "stdout",
     "output_type": "stream",
     "text": [
      "[[ 0.32518535  2.62276129]\n",
      " [ 0.52773194 -3.03475744]\n",
      " [-3.95594682 -3.54851291]]\n"
     ]
    },
    {
     "data": {
      "image/png": "[encoded data removed]",
      "text/plain": [
       "<matplotlib.figure.Figure at 0xa642064c>"
      ]
     },
     "metadata": {},
     "output_type": "display_data"
    },
    {
     "name": "stdout",
     "output_type": "stream",
     "text": [
      "[[ 0.32518535  2.62276129]\n",
      " [ 0.52773194 -3.03475744]\n",
      " [-3.95594682 -3.54851291]]\n",
      "[[-0.0230188   3.01750841]\n",
      " [ 2.36285758 -3.03401984]\n",
      " [-3.18669468 -3.14524358]]\n"
     ]
    },
    {
     "data": {
      "image/png": "[encoded data removed]",
      "text/plain": [
       "<matplotlib.figure.Figure at 0xa640be0c>"
      ]
     },
     "metadata": {},
     "output_type": "display_data"
    }
   ],
   "source": [
    "KMeans_fit(data, n_clusters=3, nsteps=0);\n",
    "KMeans_fit(data, n_clusters=3, nsteps=1);\n",
    "KMeans_fit(data, n_clusters=3, nsteps=2);"
   ]
  },
  {
   "cell_type": "markdown",
   "metadata": {},
   "source": [
    "### Problem 2"
   ]
  },
  {
   "cell_type": "markdown",
   "metadata": {},
   "source": [
    "The PCA method of dimensionality reduction first calculates an exact linear decomposition (up to round off error),\n",
    "then trims rows and columns to the desired number of latent variables.  In this problem, you will explore how PCA is implemented. The tricky linear algebra is already implemented in [numpy.linalg](https://docs.scipy.org/doc/numpy-1.13.0/reference/routines.linalg.html), but it is still a challenge to keep all the notation and conventions self consistent.\n",
    "\n",
    "The input data $X$ is provided as an $N\\times D$ (samples, features) matrix. In the following we assume that each feature is centered on zero (otherwise, calculate and subtract the $\\mu_j$, then add them back later),\n",
    "$$\n",
    "\\mu_j = \\sum_i X_{ij} = 0 \\;.\n",
    "$$\n",
    "There are three equivalent methods for performing the initial exact decomposition:\n",
    "1. Calculate the $D\\times D$ [sample covariance matrix](https://en.wikipedia.org/wiki/Sample_mean_and_covariance#Sample_covariance)\n",
    "$$\n",
    "C \\equiv \\frac{1}{N-1}\\,X^T X \\;.\n",
    "$$\n",
    "then find its eigenvalue decomposition:\n",
    "$$\n",
    "C = Q^T \\Lambda Q\n",
    "$$\n",
    "where $\\Lambda$ is a diagonal $D\\times D$ matrix of eigenvalues and the rows of the orthogonal $D\\times D$ matrix $Q$ are the corresponding eigenvectors.\n",
    "2. Calculate the $N\\times N$ matrix of dot products between samples:\n",
    "$$\n",
    "D \\equiv \\frac{1}{N-1}\\,X X^T \\;,\n",
    "$$\n",
    "then find its eigenvalue decomposition, where now $Q$ and $\\Lambda$ are $N\\times N$ matrices.\n",
    "3. Find the [singular value decomposition (SVD)](https://en.wikipedia.org/wiki/Singular-value_decomposition) of $X$\n",
    "$$\n",
    "X = U S V \\quad \\Rightarrow \\quad C = \\frac{1}{N-1}\\,V^T S^2 V \\;,\n",
    "$$\n",
    "where $S$ is a diagonal $K\\times K$ matrix of *singular values*, $U$ is $N\\times K$ and $V$ is $K\\times D$, with\n",
    "$K = \\min(N, D)$. The notation above is chosen to match [np.linalg.svd](https://docs.scipy.org/doc/numpy-1.13.0/reference/generated/numpy.linalg.svd.html) which you will use below.\n",
    "\n",
    "The computational cost of each method depends differently on the values of $N$ and $D$, so the most efficient method will depend on the shape of the input data $X$. There are also numerical considerations: the matrices $C$ and $D$ should be [positive definite](https://en.wikipedia.org/wiki/Positive-definite_matrix) in order to guarantee positive eigenvalues, but this will not be true for $C$ if $N < D$ or for $D$ if $N > D$.\n",
    "\n",
    "Implement the function below to calculate the eigenvectors and eigenvalues of a square input matrix using a suitable function from [np.linalg](https://docs.scipy.org/doc/numpy-1.13.0/reference/routines.linalg.html).  The results should be sorted in order of decreasing eigenvalues, as needed by PCA. Hint: `M[::-1]` reverses the rows of a 2D array `M` (more info [here](https://docs.scipy.org/doc/numpy-dev/user/quickstart.html#indexing-slicing-and-iterating))."
   ]
  },
  {
   "cell_type": "code",
   "execution_count": 56,
   "metadata": {
    "deletable": false,
    "nbgrader": {
     "checksum": "b658d6b140f198cd9b4312fee7454bd2",
     "grade": false,
     "grade_id": "cell-60d5e4d2d2990d4c",
     "locked": false,
     "schema_version": 1,
     "solution": true
    }
   },
   "outputs": [],
   "source": [
    "def eigensolve(M):\n",
    "    \"\"\"Calculate eigenvectors and eigenvalues of a square symmetric matrix.\n",
    "    \n",
    "    Results are sorted by decreasing eigenvalue. The rows (not columns) of the\n",
    "    returned eigenvector array are the normalized eigenvectors of M.\n",
    "    \n",
    "    Parameters\n",
    "    ----------\n",
    "    M : 2D array\n",
    "        N x N symmetric square matrix to use.\n",
    "        \n",
    "    Returns\n",
    "    -------\n",
    "    tuple\n",
    "        Tuple of arrays (eigenvalues, eigenvectors) with eigenvalues decreasing and\n",
    "        eigenvector[i] corresponding to eigenvalue[i].  Eigenvalues should have the\n",
    "        shape (N,) and eigenvectors should have the shape (N, N).\n",
    "    \"\"\"\n",
    "    assert len(M.shape) == 2\n",
    "    nrows, ncols = M.shape\n",
    "    assert nrows == ncols\n",
    "    assert np.all(M.T == M)\n",
    "    evals = np.linalg.eig(M)[0]\n",
    "    evecs = np.linalg.eig(M)[1].T\n",
    "    evals_ind = evals.argsort()\n",
    "    evals = evals[evals_ind[::-1]]\n",
    "    evecs = evecs[evals_ind[::-1]]\n",
    "    return evals,evecs\n",
    "    #return np.linalg.eig(M)\n",
    "    # YOUR CODE HERE\n",
    "    raise NotImplementedError()"
   ]
  },
  {
   "cell_type": "code",
   "execution_count": 87,
   "metadata": {
    "deletable": false,
    "editable": false,
    "nbgrader": {
     "checksum": "b3107c2685795041816cb2b5d83b1b6b",
     "grade": true,
     "grade_id": "cell-8af6e9cda0d477f4",
     "locked": true,
     "points": 1,
     "schema_version": 1,
     "solution": false
    }
   },
   "outputs": [],
   "source": [
    "# A correct solution should pass the tests below.\n",
    "C = np.diag(np.arange(1., 5.))\n",
    "evals, evecs = eigensolve(C)\n",
    "assert np.allclose(\n",
    "    evals,\n",
    "    [ 4.,  3.,  2.,  1.])\n",
    "assert np.allclose(\n",
    "    evecs,\n",
    "    [[ 0.,  0.,  0.,  1.],\n",
    "     [ 0.,  0.,  1.,  0.],\n",
    "     [ 0.,  1.,  0.,  0.],\n",
    "     [ 1.,  0.,  0.,  0.]])\n",
    "\n",
    "gen = np.random.RandomState(seed=123)\n",
    "N, D = 4, 3\n",
    "X = gen.uniform(size=(N, D))\n",
    "X -= np.mean(X, axis=0)\n",
    "C = np.dot(X.T, X) / (N - 1)\n",
    "evals, evecs = eigensolve(C)\n",
    "assert np.allclose(C, evecs.T.dot(np.diag(evals).dot(evecs)))\n",
    "assert np.allclose(\n",
    "    np.round(evals, 5),\n",
    "    [ 0.08825,  0.0481 ,  0.01983])\n",
    "assert np.allclose(\n",
    "    np.round(evecs, 3),\n",
    "    [[-0.787, -0.477,  0.391],\n",
    "     [-0.117,  0.737,  0.665],\n",
    "     [-0.606,  0.478, -0.636]])"
   ]
  },
  {
   "cell_type": "markdown",
   "metadata": {},
   "source": [
    "Implement the function below to calculate the same quantities using the [SVD method](https://docs.scipy.org/doc/numpy-1.13.0/reference/generated/numpy.linalg.svd.html) directly on $X$ instead of solving the eigenvalue problem for the sample covariance.  Hint: pay attention to the `full_matrices` parameter."
   ]
  },
  {
   "cell_type": "code",
   "execution_count": 92,
   "metadata": {
    "deletable": false,
    "nbgrader": {
     "checksum": "9c6c9b0c71f4da718999ab126cbc1015",
     "grade": false,
     "grade_id": "cell-802098e1420a75b8",
     "locked": false,
     "schema_version": 1,
     "solution": true
    }
   },
   "outputs": [],
   "source": [
    "def svdsolve(X):\n",
    "    \"\"\"Calculate eigenvectors and eigenvalues of the sample covariance of X.\n",
    "\n",
    "    Results are sorted by decreasing eigenvalue. The rows (not columns) of the\n",
    "    returned eigenvector array are the normalized eigenvectors of M.\n",
    "\n",
    "    Uses the SVD method directly on X.\n",
    "    \n",
    "    Parameters\n",
    "    ----------\n",
    "    X: 2D array\n",
    "        N x D matrix to use.\n",
    "        \n",
    "    Returns\n",
    "    -------\n",
    "    tuple\n",
    "        Tuple of arrays (eigenvalues, eigenvectors) with eigenvalues decreasing and\n",
    "        eigenvector[i] corresponding to eigenvalue[i].  Eigenvalues should have the\n",
    "        shape (K,) and eigenvectors should have the shape (K, D) with K=min(N, D).\n",
    "    \"\"\"\n",
    "    assert len(X.shape) == 2\n",
    "    N, D = X.shape\n",
    "    u,s,v = np.linalg.svd(X,full_matrices=False)\n",
    "    print(u)\n",
    "    print(s**2/(N-1))\n",
    "    print(v)\n",
    "    evals = s**2/(N-1)\n",
    "    evecs = v\n",
    "    print(evecs.shape)        \n",
    "    return evals,evecs\n",
    "    # YOUR CODE HERE\n",
    "    raise NotImplementedError()"
   ]
  },
  {
   "cell_type": "code",
   "execution_count": 93,
   "metadata": {
    "deletable": false,
    "editable": false,
    "nbgrader": {
     "checksum": "74bdb5f91caeba7fbb8db9f85205c353",
     "grade": true,
     "grade_id": "cell-544cfe3fbf8caf35",
     "locked": true,
     "points": 1,
     "schema_version": 1,
     "solution": false
    }
   },
   "outputs": [
    {
     "name": "stdout",
     "output_type": "stream",
     "text": [
      "[[-0.03799576  0.86123777 -0.08261855]\n",
      " [-0.06887065 -0.36822173 -0.78081342]\n",
      " [-0.64945474 -0.27048563  0.50502086]\n",
      " [ 0.75632116 -0.22253041  0.35841111]]\n",
      "[0.08824701 0.04809779 0.01982895]\n",
      "[[-0.78679093 -0.47739791  0.39121769]\n",
      " [ 0.1165662  -0.73736246 -0.66536376]\n",
      " [ 0.6061125  -0.47789941  0.63579855]]\n",
      "(3, 3)\n",
      "[[-0.44927405  0.68177672  0.57735027]\n",
      " [-0.36579893 -0.7299711   0.57735027]\n",
      " [ 0.81507298  0.04819438  0.57735027]]\n",
      "[2.36877422e-01 3.41211215e-02 2.72840075e-33]\n",
      "[[ 0.36799247  0.87368649  0.31557831 -0.04078956]\n",
      " [ 0.75170384 -0.17781069 -0.31284493  0.5526778 ]\n",
      " [-0.50001236  0.43367656 -0.55203918  0.50711441]]\n",
      "(3, 4)\n"
     ]
    },
    {
     "ename": "AssertionError",
     "evalue": "",
     "output_type": "error",
     "traceback": [
      "\u001b[0;31m---------------------------------------------------------------------------\u001b[0m",
      "\u001b[0;31mAssertionError\u001b[0m                            Traceback (most recent call last)",
      "\u001b[0;32m<ipython-input-93-3b050370e4c8>\u001b[0m in \u001b[0;36m<module>\u001b[0;34m()\u001b[0m\n\u001b[1;32m     29\u001b[0m     [[ 0.368,  0.874,  0.316, -0.041],\n\u001b[1;32m     30\u001b[0m      \u001b[0;34m[\u001b[0m \u001b[0;36m0.752\u001b[0m\u001b[0;34m,\u001b[0m \u001b[0;34m-\u001b[0m\u001b[0;36m0.178\u001b[0m\u001b[0;34m,\u001b[0m \u001b[0;34m-\u001b[0m\u001b[0;36m0.313\u001b[0m\u001b[0;34m,\u001b[0m  \u001b[0;36m0.553\u001b[0m\u001b[0;34m]\u001b[0m\u001b[0;34m,\u001b[0m\u001b[0;34m\u001b[0m\u001b[0m\n\u001b[0;32m---> 31\u001b[0;31m      [-0.475,  0.445, -0.62 ,  0.439]])\n\u001b[0m",
      "\u001b[0;31mAssertionError\u001b[0m: "
     ]
    }
   ],
   "source": [
    "# A correct solution should pass the tests below.\n",
    "gen = np.random.RandomState(seed=123)\n",
    "N, D = 4, 3\n",
    "X = gen.uniform(size=(N, D))\n",
    "X -= np.mean(X, axis=0)\n",
    "evals, evecs = svdsolve(X)\n",
    "C = np.dot(X.T, X) / (N - 1)\n",
    "assert np.allclose(C, evecs.T.dot(np.diag(evals).dot(evecs)))\n",
    "assert np.allclose(\n",
    "    np.round(evals, 5),\n",
    "    [ 0.08825,  0.0481 ,  0.01983])\n",
    "assert np.allclose(\n",
    "    np.round(evecs, 3),\n",
    "    [[-0.787, -0.477,  0.391],\n",
    "     [ 0.117, -0.737, -0.665],\n",
    "     [ 0.606, -0.478,  0.636]])\n",
    "\n",
    "N, D = 3, 4\n",
    "X = gen.uniform(size=(N, D))\n",
    "X -= np.mean(X, axis=0)\n",
    "evals, evecs = svdsolve(X)\n",
    "C = np.dot(X.T, X) / (N - 1)\n",
    "assert np.allclose(C, evecs.T.dot(np.diag(evals).dot(evecs)))\n",
    "assert np.allclose(\n",
    "    np.round(evals, 5),\n",
    "    [ 0.23688,  0.03412,  0.     ])\n",
    "assert np.allclose(\n",
    "    np.round(evecs, 3),\n",
    "    [[ 0.368,  0.874,  0.316, -0.041],\n",
    "     [ 0.752, -0.178, -0.313,  0.553],\n",
    "     [-0.475,  0.445, -0.62 ,  0.439]])"
   ]
  },
  {
   "cell_type": "markdown",
   "metadata": {},
   "source": [
    "Note that the eigenvectors found by the two methods might differ by an overall sign, but both sets of eigenvectors are orthonormal, so equally valid.\n",
    "\n",
    "The following simple driver code shows how to build a PCA fit from your functions (but the [sklearn driver](http://scikit-learn.org/stable/modules/generated/sklearn.decomposition.PCA.html) has a lot more options):"
   ]
  },
  {
   "cell_type": "code",
   "execution_count": null,
   "metadata": {},
   "outputs": [],
   "source": [
    "def PCA_fit(data, n_components=2):\n",
    "    X = data.values\n",
    "    N, D = X.shape\n",
    "    print('N,D = {},{}'.format(N, D))\n",
    "    K = min(N, D)\n",
    "    assert n_components <= K\n",
    "    # Subtract mean value of each feature.\n",
    "    mu = np.mean(X, axis=0)\n",
    "    Xc = X - mu\n",
    "    # Select the method based on N, D.\n",
    "    if N > 2 * D:\n",
    "        print('Using method 1')\n",
    "        evals, M = eigensolve(np.dot(Xc.T, Xc) / (N - 1))\n",
    "        assert evals.shape == (D,) and M.shape == (D, D)\n",
    "    elif D > 2 * N:\n",
    "        print('Using method 2')\n",
    "        evals, M = eigensolve(np.dot(Xc, Xc.T) / (N - 1))\n",
    "        assert evals.shape == (N,) and M.shape == (N, N)\n",
    "        # Eigenvectors are now M = U.T of the SVD.  Convert to M = V.\n",
    "        # Use abs(evals) since smallest values might be < 0 due to numerical errors.\n",
    "        M = np.dot(np.dot(np.diag(np.abs(evals) ** -0.5), M), Xc) / np.sqrt(N - 1)\n",
    "    else:\n",
    "        print('Using method 3')\n",
    "        evals, M = svdsolve(Xc)\n",
    "        assert evals.shape == (K,) and M.shape == (K, D)\n",
    "    # Calculate Y such that Xc = Y M.\n",
    "    Y = np.dot(Xc, M.T)\n",
    "    # Trim to latent variable subspace.\n",
    "    Y = Y[:, :n_components]\n",
    "    M = M[:n_components]\n",
    "    # Calculate reconstructed samples.\n",
    "    Xr = np.dot(Y, M) + mu\n",
    "    # Plot some samples and their reconstructions.\n",
    "    for i,c in zip((0, 6, 7), sns.color_palette()):\n",
    "        plt.plot(X[i], '.', c=c, ms=5)\n",
    "        plt.plot(Xr[i], '-', c=c)\n",
    "    plt.show()"
   ]
  },
  {
   "cell_type": "markdown",
   "metadata": {},
   "source": [
    "Test this driver in each regime by varying the number of features used from `spectra_data` with $N$, $D$ = 200, 500:\n",
    "- $N \\gg D$: method 1\n",
    "- $N \\ll D$: method 2\n",
    "- $N \\simeq D$: method 3"
   ]
  },
  {
   "cell_type": "code",
   "execution_count": null,
   "metadata": {},
   "outputs": [],
   "source": [
    "PCA_fit(spectra_data.iloc[:, 190:230], n_components=2)"
   ]
  },
  {
   "cell_type": "code",
   "execution_count": null,
   "metadata": {},
   "outputs": [],
   "source": [
    "PCA_fit(spectra_data, n_components=2)"
   ]
  },
  {
   "cell_type": "code",
   "execution_count": null,
   "metadata": {},
   "outputs": [],
   "source": [
    "PCA_fit(spectra_data.iloc[:, 120:320], n_components=2)"
   ]
  },
  {
   "cell_type": "markdown",
   "metadata": {},
   "source": [
    "## Problem 3"
   ]
  },
  {
   "cell_type": "markdown",
   "metadata": {},
   "source": [
    "Implement the function below to compare clusters found in a full dataset with those found in a reduced dataset. Use KMeans for clustering and PCA to obtained the reduced dataset."
   ]
  },
  {
   "cell_type": "code",
   "execution_count": null,
   "metadata": {
    "deletable": false,
    "nbgrader": {
     "checksum": "3c14fb9abfd9e83c27a2acf669a900d0",
     "grade": true,
     "grade_id": "cell-a25e77609f888df5",
     "locked": false,
     "points": 1,
     "schema_version": 1,
     "solution": true
    }
   },
   "outputs": [],
   "source": [
    "def compare_clusters(data, n_clusters, n_components, seed=123):\n",
    "    \"\"\"Compare clusters in the full vs reduced feature space.\n",
    "    \n",
    "    Parameters\n",
    "    ----------\n",
    "    data : pandas DataFrame\n",
    "        Dataset to analyze of shape (N, D).\n",
    "    n_clusters : int\n",
    "        Number of clusters to find using KMeans.\n",
    "    n_components : int\n",
    "        Number of dimensions of the reduced latent variable space\n",
    "        to calculate using PCA.\n",
    "    seed : int\n",
    "        Random number seed used for reproducible KMeans and PCA.\n",
    "        \n",
    "    Returns\n",
    "    -------\n",
    "    tuple\n",
    "        Tuple (labels1, labels2) of 1D integer arrays of length N,\n",
    "        with values 0,1,...,(n_clusters-1).\n",
    "    \"\"\"\n",
    "    gen = np.random.RandomState(seed=seed)\n",
    "    # YOUR CODE HERE\n",
    "    raise NotImplementedError()"
   ]
  },
  {
   "cell_type": "markdown",
   "metadata": {},
   "source": [
    "Use the code below to test your function and comment (in the following markdown cell) on how the full vs reduced clusters compare and whether there is an advantage to clustering in reduced dimensions."
   ]
  },
  {
   "cell_type": "markdown",
   "metadata": {
    "deletable": false,
    "nbgrader": {
     "checksum": "3770311b8b709cd2a8f4c982160a7515",
     "grade": true,
     "grade_id": "cell-544c5390b860dafe",
     "locked": false,
     "points": 1,
     "schema_version": 1,
     "solution": true
    }
   },
   "source": [
    "YOUR ANSWER HERE"
   ]
  },
  {
   "cell_type": "code",
   "execution_count": null,
   "metadata": {},
   "outputs": [],
   "source": [
    "labels1, labels2 = compare_clusters(spectra_data, 4, 2)\n",
    "fig, ax = plt.subplots(4, 2, figsize=(8, 12))\n",
    "for i in range(4):\n",
    "    sel1 = np.where(labels1 == i)[0]\n",
    "    sel2 = np.where(labels2 == i)[0]\n",
    "    for j in range(4):\n",
    "        ax[i, 0].plot(spectra_data.iloc[sel1[j]], 'r.', ms=5)\n",
    "        ax[i, 1].plot(spectra_data.iloc[sel2[j]], 'b.', ms=5)"
   ]
  }
 ],
 "metadata": {
  "kernelspec": {
   "display_name": "Python 3",
   "language": "python",
   "name": "python3"
  },
  "language_info": {
   "codemirror_mode": {
    "name": "ipython",
    "version": 3
   },
   "file_extension": ".py",
   "mimetype": "text/x-python",
   "name": "python",
   "nbconvert_exporter": "python",
   "pygments_lexer": "ipython3",
   "version": "3.6.4"
  }
 },
 "nbformat": 4,
 "nbformat_minor": 2
}
